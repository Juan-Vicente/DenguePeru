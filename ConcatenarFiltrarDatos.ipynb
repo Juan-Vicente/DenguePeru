{
 "cells": [
  {
   "cell_type": "code",
   "execution_count": 1,
   "metadata": {},
   "outputs": [],
   "source": [
    "import os\n",
    "import pandas as pd\n",
    "import numpy as np\n"
   ]
  },
  {
   "cell_type": "code",
   "execution_count": 2,
   "metadata": {},
   "outputs": [],
   "source": [
    "PATH=\".\\\\DatosCrudos\"\n",
    "Salida=\".\\\\DatosAnonimizados\""
   ]
  },
  {
   "cell_type": "code",
   "execution_count": 3,
   "metadata": {},
   "outputs": [],
   "source": [
    "files=os.listdir('.\\\\DatosCrudos')"
   ]
  },
  {
   "cell_type": "code",
   "execution_count": 4,
   "metadata": {},
   "outputs": [
    {
     "data": {
      "text/plain": [
       "['rendimiento_año_2010_ciclo_1.xlsx',\n",
       " 'rendimiento_año_2010_ciclo_2.xlsx',\n",
       " 'rendimiento_año_2011_ciclo_1.xlsx',\n",
       " 'rendimiento_año_2011_ciclo_2.xlsx',\n",
       " 'rendimiento_año_2012_ciclo_1.xlsx',\n",
       " 'rendimiento_año_2012_ciclo_2.xlsx',\n",
       " 'rendimiento_año_2013_ciclo_1.xlsx',\n",
       " 'rendimiento_año_2013_ciclo_2.xlsx',\n",
       " 'rendimiento_año_2014_ciclo_1.xlsx',\n",
       " 'rendimiento_año_2014_ciclo_2.xlsx',\n",
       " 'rendimiento_año_2015_ciclo_1.xlsx',\n",
       " 'rendimiento_año_2015_ciclo_2.xlsx',\n",
       " 'rendimiento_año_2016_ciclo_1.xlsx',\n",
       " 'rendimiento_año_2016_ciclo_2.xlsx',\n",
       " 'rendimiento_año_2017_ciclo_1.xlsx',\n",
       " 'rendimiento_año_2017_ciclo_2.xlsx',\n",
       " 'rendimiento_año_2018_ciclo_1.xlsx',\n",
       " 'rendimiento_año_2018_ciclo_2.xlsx',\n",
       " 'rendimiento_año_2019_ciclo_1.xlsx',\n",
       " 'rendimiento_año_2019_ciclo_2.xlsx',\n",
       " 'rendimiento_año_2020_ciclo_1_2020.12.30-10.20.22.xlsx',\n",
       " '~$rendimiento_año_2019_ciclo_1.xlsx']"
      ]
     },
     "execution_count": 4,
     "metadata": {},
     "output_type": "execute_result"
    }
   ],
   "source": [
    "files"
   ]
  },
  {
   "cell_type": "code",
   "execution_count": 9,
   "metadata": {},
   "outputs": [
    {
     "name": "stdout",
     "output_type": "stream",
     "text": [
      "1\n",
      "2\n",
      "3\n",
      "4\n",
      "5\n",
      "6\n",
      "7\n",
      "8\n",
      "9\n",
      "10\n",
      "11\n",
      "12\n",
      "13\n",
      "14\n",
      "15\n",
      "16\n",
      "17\n",
      "18\n",
      "19\n",
      "20\n"
     ]
    }
   ],
   "source": [
    "DatosConcatenados=pd.DataFrame(columns=['danho','ciclo','Cedula','Alumno', 'Cod.Asign', 'Asignatura', 'Cod.Car.Sec',\n",
    "       'Cod.Curso', 'Convocatoria', 'Anho', 'Semestre', 'Doc.Firma',\n",
    "       'Aprobado', 'Anho.Firma', 'Primer.Par', 'Segundo.Par', 'AOT',\n",
    "       'Primer.Rec', 'Segundo.Rec', 'Nota.Final'])\n",
    "i=0\n",
    "for filename in files[:-2]:\n",
    "    i=i+1\n",
    "    print(i)\n",
    "    lectura= pd.read_excel(PATH+\"\\\\\"+filename, sheet_name=\"ACAD\",skiprows=0)\n",
    "    lectura['ciclo']=int(filename[-6])\n",
    "    lectura['danho']=int(filename[-17:-13])\n",
    "    DatosConcatenados= pd.concat([DatosConcatenados, lectura], axis=0)"
   ]
  },
  {
   "cell_type": "code",
   "execution_count": 10,
   "metadata": {},
   "outputs": [],
   "source": [
    "labels, uniques =  pd.factorize(DatosConcatenados['Cedula'])\n",
    "labels = ['es_'+str(l) for l in labels]\n",
    "DatosConcatenados['id_anony'] = labels\n",
    "DatosConcatenados=DatosConcatenados.drop(['Cedula', 'Alumno','Doc.Firma'], axis=1)\n",
    "    \n",
    "DatosConcatenados.to_csv(Salida+\"\\\\datosConcatenados.csv\")"
   ]
  },
  {
   "cell_type": "code",
   "execution_count": null,
   "metadata": {},
   "outputs": [],
   "source": []
  }
 ],
 "metadata": {
  "kernelspec": {
   "display_name": "Python 3",
   "language": "python",
   "name": "python3"
  },
  "language_info": {
   "codemirror_mode": {
    "name": "ipython",
    "version": 3
   },
   "file_extension": ".py",
   "mimetype": "text/x-python",
   "name": "python",
   "nbconvert_exporter": "python",
   "pygments_lexer": "ipython3",
   "version": "3.8.8"
  }
 },
 "nbformat": 4,
 "nbformat_minor": 4
}
