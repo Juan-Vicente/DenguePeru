{
 "cells": [
  {
   "cell_type": "code",
   "execution_count": 31,
   "metadata": {},
   "outputs": [],
   "source": [
    "import os\n",
    "import pandas as pd\n",
    "import numpy as np\n"
   ]
  },
  {
   "cell_type": "code",
   "execution_count": 32,
   "metadata": {},
   "outputs": [],
   "source": [
    "PATH=\".\\\\datos\\\\\""
   ]
  },
  {
   "cell_type": "code",
   "execution_count": 33,
   "metadata": {},
   "outputs": [],
   "source": [
    "files=os.listdir('.\\\\datos')"
   ]
  },
  {
   "cell_type": "code",
   "execution_count": 34,
   "metadata": {},
   "outputs": [
    {
     "data": {
      "text/plain": [
       "['.ipynb_checkpoints',\n",
       " 'datosConcatenados.csv',\n",
       " 'DEN_2015.csv',\n",
       " 'DEN_2016.csv',\n",
       " 'DEN_2017.csv',\n",
       " 'DEN_2018.csv',\n",
       " 'DEN_2019.csv',\n",
       " 'DEN_2020.csv',\n",
       " 'Poblacion',\n",
       " 'Zika']"
      ]
     },
     "execution_count": 34,
     "metadata": {},
     "output_type": "execute_result"
    }
   ],
   "source": [
    "files"
   ]
  },
  {
   "cell_type": "code",
   "execution_count": 59,
   "metadata": {},
   "outputs": [
    {
     "data": {
      "text/html": [
       "<div>\n",
       "<style scoped>\n",
       "    .dataframe tbody tr th:only-of-type {\n",
       "        vertical-align: middle;\n",
       "    }\n",
       "\n",
       "    .dataframe tbody tr th {\n",
       "        vertical-align: top;\n",
       "    }\n",
       "\n",
       "    .dataframe thead th {\n",
       "        text-align: right;\n",
       "    }\n",
       "</style>\n",
       "<table border=\"1\" class=\"dataframe\">\n",
       "  <thead>\n",
       "    <tr style=\"text-align: right;\">\n",
       "      <th></th>\n",
       "      <th>Semana</th>\n",
       "      <th>numero_casos</th>\n",
       "      <th>Anho</th>\n",
       "      <th>Departamento</th>\n",
       "    </tr>\n",
       "  </thead>\n",
       "  <tbody>\n",
       "    <tr>\n",
       "      <th>0</th>\n",
       "      <td>1</td>\n",
       "      <td>0</td>\n",
       "      <td>2015</td>\n",
       "      <td>LIMA</td>\n",
       "    </tr>\n",
       "    <tr>\n",
       "      <th>1</th>\n",
       "      <td>2</td>\n",
       "      <td>0</td>\n",
       "      <td>2015</td>\n",
       "      <td>LIMA</td>\n",
       "    </tr>\n",
       "    <tr>\n",
       "      <th>2</th>\n",
       "      <td>3</td>\n",
       "      <td>0</td>\n",
       "      <td>2015</td>\n",
       "      <td>LIMA</td>\n",
       "    </tr>\n",
       "    <tr>\n",
       "      <th>3</th>\n",
       "      <td>4</td>\n",
       "      <td>0</td>\n",
       "      <td>2015</td>\n",
       "      <td>LIMA</td>\n",
       "    </tr>\n",
       "    <tr>\n",
       "      <th>4</th>\n",
       "      <td>5</td>\n",
       "      <td>0</td>\n",
       "      <td>2015</td>\n",
       "      <td>LIMA</td>\n",
       "    </tr>\n",
       "  </tbody>\n",
       "</table>\n",
       "</div>"
      ],
      "text/plain": [
       "   Semana  numero_casos  Anho Departamento\n",
       "0       1             0  2015         LIMA\n",
       "1       2             0  2015         LIMA\n",
       "2       3             0  2015         LIMA\n",
       "3       4             0  2015         LIMA\n",
       "4       5             0  2015         LIMA"
      ]
     },
     "execution_count": 59,
     "metadata": {},
     "output_type": "execute_result"
    }
   ],
   "source": [
    "agrupado.head()"
   ]
  },
  {
   "cell_type": "code",
   "execution_count": 60,
   "metadata": {},
   "outputs": [
    {
     "name": "stdout",
     "output_type": "stream",
     "text": [
      "1\n",
      "DEN_2015.csv\n",
      "DEN\n",
      "2015\n"
     ]
    },
    {
     "name": "stderr",
     "output_type": "stream",
     "text": [
      "<ipython-input-60-c23089a247b6>:17: SettingWithCopyWarning: \n",
      "A value is trying to be set on a copy of a slice from a DataFrame.\n",
      "Try using .loc[row_indexer,col_indexer] = value instead\n",
      "\n",
      "See the caveats in the documentation: https://pandas.pydata.org/pandas-docs/stable/user_guide/indexing.html#returning-a-view-versus-a-copy\n",
      "  lecturaCiudad['numero_casos']=lecturaCiudad.numero_casos.str.split(' ').str[0].astype(int)\n",
      "<ipython-input-60-c23089a247b6>:18: SettingWithCopyWarning: \n",
      "A value is trying to be set on a copy of a slice from a DataFrame\n",
      "\n",
      "See the caveats in the documentation: https://pandas.pydata.org/pandas-docs/stable/user_guide/indexing.html#returning-a-view-versus-a-copy\n",
      "  lecturaCiudad.sort_values(by=['Semana'],inplace=True)\n"
     ]
    },
    {
     "name": "stdout",
     "output_type": "stream",
     "text": [
      "2\n",
      "DEN_2016.csv\n",
      "DEN\n",
      "2016\n",
      "3\n",
      "DEN_2017.csv\n",
      "DEN\n",
      "2017\n",
      "4\n",
      "DEN_2018.csv\n",
      "DEN\n",
      "2018\n",
      "5\n",
      "DEN_2019.csv\n",
      "DEN\n",
      "2019\n",
      "6\n",
      "DEN_2020.csv\n",
      "DEN\n",
      "2020\n"
     ]
    }
   ],
   "source": [
    "DatosConcatenados=pd.DataFrame(columns=[\"Departamento\",\"casosAccumAnho\",\"nuevosCasos\",\"Semana\",\"Anho\",\"ix\"])\n",
    "i=0\n",
    "n=0\n",
    "for filename in files[:-2]:\n",
    "\n",
    "   \n",
    "\n",
    "    if filename[:3]==\"DEN\":\n",
    "        i=i+1\n",
    "        print(i)\n",
    "        print(filename)\n",
    "\n",
    "        print(filename[:3])\n",
    "        print(filename[4:8])\n",
    "        lectura=pd.read_csv(PATH+filename,usecols=[\"Departamento\",\"numero_casos\",\"Semana\"],sep=\";\")\n",
    "        lecturaCiudad=lectura[lectura.Departamento==\"LIMA\"]\n",
    "        lecturaCiudad['numero_casos']=lecturaCiudad.numero_casos.str.split(' ').str[0].astype(int)\n",
    "        lecturaCiudad.sort_values(by=['Semana'],inplace=True)\n",
    "        agrupado=lecturaCiudad.groupby(['Semana'])['numero_casos'].sum().reset_index(name='numero_casos')\n",
    "        agrupado.rename(columns = {'numero_casos':'casosAccumAnho'}, inplace = True)\n",
    "        agrupado['Anho']=int(filename[4:8])\n",
    "        agrupado[\"Departamento\"]=\"LIMA\"\n",
    "        agrupado[\"nuevosCasos\"]=np.diff( agrupado.casosAccumAnho.values,prepend=[0])\n",
    "\n",
    "\n",
    "        agrupado['ix']= agrupado.index.values+n\n",
    "        n=n+len(agrupado.ix.values)\n",
    "        DatosConcatenados= pd.concat([DatosConcatenados, agrupado], axis=0)"
   ]
  },
  {
   "cell_type": "code",
   "execution_count": 61,
   "metadata": {},
   "outputs": [],
   "source": [
    "DatosConcatenados.sort_values(by=['ix'],inplace=True)\n"
   ]
  },
  {
   "cell_type": "code",
   "execution_count": 62,
   "metadata": {},
   "outputs": [],
   "source": [
    "    \n",
    "DatosConcatenados.set_index([\"ix\"],drop=True, inplace=True)\n"
   ]
  },
  {
   "cell_type": "code",
   "execution_count": 63,
   "metadata": {},
   "outputs": [
    {
     "data": {
      "text/html": [
       "<div>\n",
       "<style scoped>\n",
       "    .dataframe tbody tr th:only-of-type {\n",
       "        vertical-align: middle;\n",
       "    }\n",
       "\n",
       "    .dataframe tbody tr th {\n",
       "        vertical-align: top;\n",
       "    }\n",
       "\n",
       "    .dataframe thead th {\n",
       "        text-align: right;\n",
       "    }\n",
       "</style>\n",
       "<table border=\"1\" class=\"dataframe\">\n",
       "  <thead>\n",
       "    <tr style=\"text-align: right;\">\n",
       "      <th></th>\n",
       "      <th>Departamento</th>\n",
       "      <th>casosAccumAnho</th>\n",
       "      <th>nuevosCasos</th>\n",
       "      <th>Semana</th>\n",
       "      <th>Anho</th>\n",
       "    </tr>\n",
       "    <tr>\n",
       "      <th>ix</th>\n",
       "      <th></th>\n",
       "      <th></th>\n",
       "      <th></th>\n",
       "      <th></th>\n",
       "      <th></th>\n",
       "    </tr>\n",
       "  </thead>\n",
       "  <tbody>\n",
       "    <tr>\n",
       "      <th>0</th>\n",
       "      <td>LIMA</td>\n",
       "      <td>0</td>\n",
       "      <td>0</td>\n",
       "      <td>1</td>\n",
       "      <td>2015</td>\n",
       "    </tr>\n",
       "    <tr>\n",
       "      <th>1</th>\n",
       "      <td>LIMA</td>\n",
       "      <td>0</td>\n",
       "      <td>0</td>\n",
       "      <td>2</td>\n",
       "      <td>2015</td>\n",
       "    </tr>\n",
       "    <tr>\n",
       "      <th>2</th>\n",
       "      <td>LIMA</td>\n",
       "      <td>0</td>\n",
       "      <td>0</td>\n",
       "      <td>3</td>\n",
       "      <td>2015</td>\n",
       "    </tr>\n",
       "    <tr>\n",
       "      <th>3</th>\n",
       "      <td>LIMA</td>\n",
       "      <td>0</td>\n",
       "      <td>0</td>\n",
       "      <td>4</td>\n",
       "      <td>2015</td>\n",
       "    </tr>\n",
       "    <tr>\n",
       "      <th>4</th>\n",
       "      <td>LIMA</td>\n",
       "      <td>0</td>\n",
       "      <td>0</td>\n",
       "      <td>5</td>\n",
       "      <td>2015</td>\n",
       "    </tr>\n",
       "  </tbody>\n",
       "</table>\n",
       "</div>"
      ],
      "text/plain": [
       "   Departamento casosAccumAnho nuevosCasos Semana  Anho\n",
       "ix                                                     \n",
       "0          LIMA              0           0      1  2015\n",
       "1          LIMA              0           0      2  2015\n",
       "2          LIMA              0           0      3  2015\n",
       "3          LIMA              0           0      4  2015\n",
       "4          LIMA              0           0      5  2015"
      ]
     },
     "execution_count": 63,
     "metadata": {},
     "output_type": "execute_result"
    }
   ],
   "source": [
    "DatosConcatenados.head()"
   ]
  },
  {
   "cell_type": "code",
   "execution_count": 64,
   "metadata": {},
   "outputs": [],
   "source": [
    "    \n",
    "DatosConcatenados.to_csv(PATH+\"\\\\datosConcatenados.csv\")"
   ]
  },
  {
   "cell_type": "code",
   "execution_count": null,
   "metadata": {},
   "outputs": [],
   "source": []
  }
 ],
 "metadata": {
  "kernelspec": {
   "display_name": "Python 3",
   "language": "python",
   "name": "python3"
  },
  "language_info": {
   "codemirror_mode": {
    "name": "ipython",
    "version": 3
   },
   "file_extension": ".py",
   "mimetype": "text/x-python",
   "name": "python",
   "nbconvert_exporter": "python",
   "pygments_lexer": "ipython3",
   "version": "3.8.8"
  }
 },
 "nbformat": 4,
 "nbformat_minor": 4
}
